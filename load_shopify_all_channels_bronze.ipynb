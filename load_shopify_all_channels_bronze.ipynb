{
 "cells": [
  {
   "cell_type": "markdown",
   "metadata": {
    "application/vnd.databricks.v1+cell": {
     "cellMetadata": {
      "byteLimit": 2048000,
      "rowLimit": 10000
     },
     "inputWidgets": {},
     "nuid": "7afb9507-786f-42d9-88de-db230a6a2094",
     "showTitle": false,
     "tableResultSettingsMap": {},
     "title": ""
    }
   },
   "source": [
    "# Define Logging and Handler"
   ]
  },
  {
   "cell_type": "code",
   "execution_count": 0,
   "metadata": {
    "application/vnd.databricks.v1+cell": {
     "cellMetadata": {
      "byteLimit": 2048000,
      "rowLimit": 10000
     },
     "inputWidgets": {},
     "nuid": "21252179-0542-44eb-9e06-28e82fb393ef",
     "showTitle": false,
     "tableResultSettingsMap": {},
     "title": ""
    }
   },
   "outputs": [
    {
     "output_type": "stream",
     "name": "stderr",
     "output_type": "stream",
     "text": [
      "2025-07-03 18:40:05 INFO Error while sending or receiving.\nTraceback (most recent call last):\n  File \"/databricks/spark/python/lib/py4j-0.10.9.7-src.zip/py4j/clientserver.py\", line 528, in send_command\n    self.socket.sendall(command.encode(\"utf-8\"))\nConnectionResetError: [Errno 104] Connection reset by peer\n2025-07-03 18:40:05 INFO Closing down clientserver connection\n2025-07-03 18:40:05 INFO Exception while sending command.\nTraceback (most recent call last):\n  File \"/databricks/spark/python/lib/py4j-0.10.9.7-src.zip/py4j/clientserver.py\", line 528, in send_command\n    self.socket.sendall(command.encode(\"utf-8\"))\nConnectionResetError: [Errno 104] Connection reset by peer\n\nDuring handling of the above exception, another exception occurred:\n\nTraceback (most recent call last):\n  File \"/databricks/spark/python/lib/py4j-0.10.9.7-src.zip/py4j/java_gateway.py\", line 1038, in send_command\n    response = connection.send_command(command)\n               ^^^^^^^^^^^^^^^^^^^^^^^^^^^^^^^^\n  File \"/databricks/spark/python/lib/py4j-0.10.9.7-src.zip/py4j/clientserver.py\", line 531, in send_command\n    raise Py4JNetworkError(\npy4j.protocol.Py4JNetworkError: Error while sending\n2025-07-03 18:40:05 INFO Closing down clientserver connection\n2025-07-03 18:40:05 INFO Error while sending or receiving.\nTraceback (most recent call last):\n  File \"/databricks/spark/python/lib/py4j-0.10.9.7-src.zip/py4j/clientserver.py\", line 528, in send_command\n    self.socket.sendall(command.encode(\"utf-8\"))\nConnectionResetError: [Errno 104] Connection reset by peer\n2025-07-03 18:40:05 INFO Closing down clientserver connection\n2025-07-03 18:40:05 INFO Exception while sending command.\nTraceback (most recent call last):\n  File \"/databricks/spark/python/lib/py4j-0.10.9.7-src.zip/py4j/clientserver.py\", line 528, in send_command\n    self.socket.sendall(command.encode(\"utf-8\"))\nConnectionResetError: [Errno 104] Connection reset by peer\n\nDuring handling of the above exception, another exception occurred:\n\nTraceback (most recent call last):\n  File \"/databricks/spark/python/lib/py4j-0.10.9.7-src.zip/py4j/java_gateway.py\", line 1038, in send_command\n    response = connection.send_command(command)\n               ^^^^^^^^^^^^^^^^^^^^^^^^^^^^^^^^\n  File \"/databricks/spark/python/lib/py4j-0.10.9.7-src.zip/py4j/clientserver.py\", line 531, in send_command\n    raise Py4JNetworkError(\npy4j.protocol.Py4JNetworkError: Error while sending\n2025-07-03 18:40:05 INFO Closing down clientserver connection\n2025-07-03 18:40:05 INFO Received command c on object id p0\n2025-07-03 18:40:06 INFO Received command c on object id p0\n2025-07-03 18:40:07 INFO Received command c on object id p0\n"
     ]
    }
   ],
   "source": [
    "from datetime import datetime\n",
    "from zoneinfo import ZoneInfo\n",
    "import logging\n",
    "\n",
    "# Configure the root logger’s level & format\n",
    "logging.basicConfig(\n",
    "    level=logging.INFO,\n",
    "    format= \"%(asctime)s %(levelname)s %(message)s\", # https://docs.python.org/3/library/logging.html#logrecord-attributes\n",
    "    datefmt=\"%Y-%m-%d %H:%M:%S\"\n",
    ")\n",
    "\n",
    "# Grab the root logger once for the whole module\n",
    "root_logger = logging.getLogger()\n",
    "\n",
    "# Define a custom ListHandler. Handler that appends each record to the target list.\n",
    "class ListHandler(logging.Handler):\n",
    "    def __init__(self, target_list):\n",
    "        super().__init__() # under the hood invokes logging.Handler.__init__\n",
    "        self.target = target_list\n",
    "\n",
    "    def emit(self, record): # “record” is the LogRecord created by logging.info()/error()        \n",
    "        utc_dt = datetime.fromtimestamp(\n",
    "            record.created, # a UTC-based POSIX timestamp\n",
    "            tz=ZoneInfo(\"UTC\") # keep in UTC\n",
    "        )\n",
    "\n",
    "        # Append structured log entry\n",
    "        self.target.append({\n",
    "            \"run_ts\": utc_dt,\n",
    "            \"level\": record.levelname,\n",
    "            \"message\": record.getMessage()\n",
    "        })"
   ]
  },
  {
   "cell_type": "markdown",
   "metadata": {
    "application/vnd.databricks.v1+cell": {
     "cellMetadata": {
      "byteLimit": 2048000,
      "rowLimit": 10000
     },
     "inputWidgets": {},
     "nuid": "d04c9703-cffb-4505-8b15-a79902d69cf8",
     "showTitle": false,
     "tableResultSettingsMap": {},
     "title": ""
    }
   },
   "source": [
    "# Define Functions"
   ]
  },
  {
   "cell_type": "code",
   "execution_count": 0,
   "metadata": {
    "application/vnd.databricks.v1+cell": {
     "cellMetadata": {
      "byteLimit": 2048000,
      "rowLimit": 10000
     },
     "inputWidgets": {},
     "nuid": "f4bc1a05-aba2-40cf-b525-f643bbb37055",
     "showTitle": false,
     "tableResultSettingsMap": {},
     "title": ""
    }
   },
   "outputs": [
    {
     "output_type": "stream",
     "name": "stderr",
     "output_type": "stream",
     "text": [
      "2025-07-03 18:40:08 INFO Received command c on object id p1\n2025-07-03 18:40:08 INFO Received command c on object id p0\n2025-07-03 18:40:09 INFO Received command c on object id p0\n2025-07-03 18:40:10 INFO Closing down clientserver connection\n2025-07-03 18:40:10 INFO Closing down clientserver connection\n2025-07-03 18:40:10 INFO Closing down clientserver connection\n2025-07-03 18:40:10 INFO Closing down clientserver connection\n"
     ]
    }
   ],
   "source": [
    "import os\n",
    "\n",
    "def get_shopify_secret(\n",
    "    shop: str           = \"SHOPIFY_US\",\n",
    "    api_version: str    = \"2023-04\",\n",
    "    scope: str          = \"azure_key_vault\",\n",
    "    key: str            = \"SHOPIFYUS-PW\"\n",
    "):\n",
    "    \"\"\"\n",
    "    Fetch the Shopify secret from Azure Key Vault\n",
    "    \"\"\"\n",
    "    # Define Shopify US private API connection\n",
    "    shop_name = os.getenv(shop)\n",
    "    shop_url = f'{shop_name}.myshopify.com'\n",
    "    api_version = api_version # the lastest version that can be supported by ShopifyAPI.\n",
    "    private_app_password = dbutils.secrets.get(scope=scope, key=key) # use Azure Key Vault to save this password.\n",
    "\n",
    "    return shop_name, shop_url, api_version, private_app_password\n",
    "\n",
    "import shopify\n",
    "import json\n",
    "import urllib.error\n",
    "\n",
    "def fetch_all_pages(entity: str, query: str, session: shopify.Session, page_size: int = 10) -> list:\n",
    "    \"\"\"\n",
    "    Paginate through Shopify GraphQL query, collecting all pages.\n",
    "    \"\"\"\n",
    "    # Log the start    \n",
    "    logging.info(\"Starting Shopify Session for '%s'\", entity)\n",
    "\n",
    "    # Activate the shopify session\n",
    "    shopify.ShopifyResource.activate_session(session)\n",
    "\n",
    "    all_edges = []\n",
    "    cursor = None\n",
    "\n",
    "    try:\n",
    "        while True:\n",
    "            variables = {\"first\": page_size}\n",
    "            if cursor:\n",
    "                variables[\"after\"] = cursor\n",
    "\n",
    "            try:\n",
    "                # Execute GraphQL query and iterate to the end page\n",
    "                raw = shopify.GraphQL().execute(query, variables=variables)\n",
    "                result = json.loads(raw)\n",
    "            except (urllib.error.HTTPError, ValueError) as e:\n",
    "                logging.error(\"Error fetching/parsing %s page: %s\", entity, e)\n",
    "                break\n",
    "\n",
    "            if \"errors\" in result:\n",
    "                msg = result[\"errors\"][0].get(\"message\", \"(no message)\")\n",
    "                logging.error(\"GraphQL error for %s: %s\", entity, msg)\n",
    "                break                \n",
    "                \n",
    "            # data = result[\"data\"][entity]\n",
    "            data = result.get(\"data\", {}).get(entity)\n",
    "            if data is None:\n",
    "                logging.error(\"No data.%s in response\", entity)\n",
    "                break                \n",
    "\n",
    "            nextPage = data[\"pageInfo\"][\"hasNextPage\"]\n",
    "            items = data[\"edges\"]\n",
    "\n",
    "            all_edges.extend(items)\n",
    "            logging.info(\"Received %s records for %s\", len(items), entity)\n",
    "\n",
    "            if not nextPage:\n",
    "                break\n",
    "            cursor = data[\"pageInfo\"][\"endCursor\"]\n",
    "\n",
    "        logging.info(\"Received all the pages for %s\", entity)\n",
    "\n",
    "    finally:\n",
    "        # Deactivate the shopify session\n",
    "        shopify.ShopifyResource.clear_session()\n",
    "        logging.info(\"Cleared Shopify Session for %s\", entity)\n",
    "\n",
    "    return [edge[\"node\"] for edge in all_edges]\n",
    "\n",
    "def write_to_lakehouse(\n",
    "    data: list            =None, \n",
    "    partition_number: int =1, \n",
    "    medal: str            =\"bronze\",\n",
    "    subfolder_path: str   =\"shopify\", \n",
    "    entity: str           =\"\",\n",
    "    file_format: str      =\"delta\", \n",
    "    write_mode: str       =\"overwrite\", \n",
    "    merge_schema: bool    =True\n",
    "):\n",
    "    \"\"\"\n",
    "    Write a list of JSON records into ADLS and register a Delta table.\n",
    "    \"\"\"\n",
    "    # Check whether the data is empty\n",
    "    if not data:\n",
    "        logging.info(\"No data for %s. Skip write.\", entity)\n",
    "        return\n",
    "    \n",
    "    # Build a RDD\n",
    "    json_rdd = sc.parallelize([json.dumps(record) for record in data])\n",
    "\n",
    "    # Read RDD as json\n",
    "    df = spark.read.json(json_rdd)\n",
    "\n",
    "    # Define the storage path\n",
    "    path = f\"abfss://{medal}@qydatalake.dfs.core.windows.net/{subfolder_path}/{entity}/\"\n",
    "\n",
    "    # Define the catalog name and table name\n",
    "    subfolder_path = subfolder_path.strip(\"/\")\n",
    "    parts = subfolder_path.split(\"/\")\n",
    "    catalog_name = parts[0]\n",
    "    if parts[1:]:\n",
    "        postfix = \"_\".join(parts[1:])\n",
    "        table_name = f\"{entity}_{postfix}\"\n",
    "    else:\n",
    "        table_name = entity\n",
    "    \n",
    "    # Write into Bronze lakehouse\n",
    "    (\n",
    "        df\n",
    "        .coalesce(partition_number) # data is small (< 250 MB), collapse to one file to avoid metadata scan overhead\n",
    "        .write\n",
    "        .format(file_format)\n",
    "        .mode(write_mode)\n",
    "        .option(\"mergeSchema\", merge_schema) # allows new columns to be added when the table already exists\n",
    "        .option(\"path\", path) # writes the Delta files into ADLS\n",
    "        .saveAsTable(f\"{catalog_name}.{medal}.{table_name}\") # registers (or refreshes) the table in Unity Catalog on Databricks\n",
    "    )\n",
    "\n",
    "    logging.info(\"Wrote %d records of %s to %s\", len(data), entity, path)\n",
    "\n",
    "def fetch_entity_data(\n",
    "    entity: str, query: str, shop_name: str, shop_url: str, api_version: str, password: str\n",
    "):\n",
    "    \"\"\"\n",
    "    Thread-safe wrapper: fetch items & details, capture logs, return data + logs.\n",
    "        Child‐process worker:\n",
    "        1) creates its own Shopify session,\n",
    "        2) fetches all pages for `entity`,\n",
    "        3) captures INFO‐level logs into a list,\n",
    "        4) returns (shop_name, entity, records, logs).\n",
    "    \"\"\"\n",
    "    # 1) spin up the session\n",
    "    session = shopify.Session(shop_url, api_version, password)\n",
    "\n",
    "    # 2) set up log capturing\n",
    "    entity_logs = []\n",
    "    list_handler = ListHandler(entity_logs)\n",
    "    list_handler.setLevel(logging.INFO)\n",
    "    root_logger.addHandler(list_handler)\n",
    "\n",
    "    try:\n",
    "        # 3) do the fetch by fetch_all_pages\n",
    "        try:\n",
    "            # Fetch full JSON for each “item” in every page (a list of dicts)\n",
    "            records = fetch_all_pages(entity, query, session)\n",
    "        except Exception:\n",
    "            logging.exception(\"Unexpected error fetching %s\", entity)\n",
    "            records = []\n",
    "    finally:\n",
    "        # always remove the log‐capturing handler\n",
    "        root_logger.removeHandler(list_handler)\n",
    "\n",
    "    # 4) return everything—including shop_name so caller knows which folder to write to\n",
    "    return shop_name, entity, records, entity_logs"
   ]
  },
  {
   "cell_type": "code",
   "execution_count": 0,
   "metadata": {
    "application/vnd.databricks.v1+cell": {
     "cellMetadata": {
      "byteLimit": 2048000,
      "rowLimit": 10000
     },
     "inputWidgets": {},
     "nuid": "2a3583ca-36a9-4fbe-8d76-f3bbea1e9569",
     "showTitle": false,
     "tableResultSettingsMap": {},
     "title": ""
    }
   },
   "outputs": [
    {
     "output_type": "stream",
     "name": "stderr",
     "output_type": "stream",
     "text": [
      "2025-07-03 18:40:10 INFO Received command c on object id p1\n2025-07-03 18:40:10 INFO Error while sending or receiving.\nTraceback (most recent call last):\n  File \"/databricks/spark/python/lib/py4j-0.10.9.7-src.zip/py4j/clientserver.py\", line 528, in send_command\n    self.socket.sendall(command.encode(\"utf-8\"))\nConnectionResetError: [Errno 104] Connection reset by peer\n2025-07-03 18:40:10 INFO Closing down clientserver connection\n2025-07-03 18:40:10 INFO Received command c on object id p0\n2025-07-03 18:40:10 INFO Exception while sending command.\nTraceback (most recent call last):\n  File \"/databricks/spark/python/lib/py4j-0.10.9.7-src.zip/py4j/clientserver.py\", line 528, in send_command\n    self.socket.sendall(command.encode(\"utf-8\"))\nConnectionResetError: [Errno 104] Connection reset by peer\n\nDuring handling of the above exception, another exception occurred:\n\nTraceback (most recent call last):\n  File \"/databricks/spark/python/lib/py4j-0.10.9.7-src.zip/py4j/java_gateway.py\", line 1038, in send_command\n    response = connection.send_command(command)\n               ^^^^^^^^^^^^^^^^^^^^^^^^^^^^^^^^\n  File \"/databricks/spark/python/lib/py4j-0.10.9.7-src.zip/py4j/clientserver.py\", line 531, in send_command\n    raise Py4JNetworkError(\npy4j.protocol.Py4JNetworkError: Error while sending\n2025-07-03 18:40:10 INFO Closing down clientserver connection\n"
     ]
    }
   ],
   "source": [
    "from pyspark.sql.types import TimestampType, StructField, StructType, StringType\n",
    "import pyspark.sql.functions as F\n",
    "\n",
    "def log_progress(\n",
    "    log_records: list     =None,\n",
    "    medal: str            =\"bronze\",\n",
    "    subfolder_path: str   =\"shopify\", \n",
    "    entity: str           =\"\"\n",
    "):\n",
    "    \"\"\"\n",
    "    Persist captured logs into Delta under Files/{medal}/{subfolder_path}/logs/{entity}_log.\n",
    "    \"\"\"\n",
    "    if not log_records:\n",
    "        return\n",
    "\n",
    "    # Define the log path\n",
    "    log_path = f\"abfss://{medal}@qydatalake.dfs.core.windows.net/{subfolder_path}/logs/{entity}_log\"\n",
    "\n",
    "    # Define the log schema\n",
    "    schema = StructType([\n",
    "        StructField(\"run_ts\", TimestampType(), nullable=False),\n",
    "        StructField(\"level\", StringType(), nullable=False),\n",
    "        StructField(\"message\", StringType(), nullable=False)\n",
    "    ])\n",
    "\n",
    "    # Create the log dataframe with exact one file output\n",
    "    log_df = spark.createDataFrame(log_records, schema).coalesce(1)\n",
    "\n",
    "    # Write the log\n",
    "    (\n",
    "        log_df\n",
    "        .write\n",
    "        .format(\"delta\")\n",
    "        .mode(\"append\")\n",
    "        .option(\"mergeSchema\", True)\n",
    "        .save(log_path)\n",
    "        # .option(\"path\", log_path)\n",
    "        # .saveAsTable(f\"{subfolder_path}.{medal}.{entity}_log\")\n",
    "    )\n",
    "\n",
    "    logging.info(\"Logged %d entries for %s\", len(log_records), entity)"
   ]
  },
  {
   "cell_type": "markdown",
   "metadata": {
    "application/vnd.databricks.v1+cell": {
     "cellMetadata": {
      "byteLimit": 2048000,
      "rowLimit": 10000
     },
     "inputWidgets": {},
     "nuid": "b299770b-3c9c-4a42-9e85-982b78bf5cc0",
     "showTitle": false,
     "tableResultSettingsMap": {},
     "title": ""
    }
   },
   "source": [
    "# Compose GraphQL Queries"
   ]
  },
  {
   "cell_type": "code",
   "execution_count": 0,
   "metadata": {
    "application/vnd.databricks.v1+cell": {
     "cellMetadata": {
      "byteLimit": 2048000,
      "rowLimit": 10000
     },
     "collapsed": true,
     "inputWidgets": {},
     "nuid": "392747a6-ea0e-461b-a7b0-dc0ba1e1afbf",
     "showTitle": false,
     "tableResultSettingsMap": {},
     "title": ""
    }
   },
   "outputs": [],
   "source": [
    "# GraphQL: $ means variable name. The trailing ! means non‐nullable.\n",
    "product_query = \"\"\"\n",
    "query getProducts($first: Int!, $after: String) {\n",
    "  products(first: $first, after: $after) {\n",
    "    edges {\n",
    "      node {\n",
    "        id\n",
    "        title\n",
    "        bodyHtml\n",
    "        vendor\n",
    "        productType\n",
    "        createdAt\n",
    "        handle\n",
    "        updatedAt\n",
    "        publishedAt\n",
    "        templateSuffix\n",
    "        tags\n",
    "        variants(first: 250) {\n",
    "          edges {\n",
    "            node {\n",
    "              id\n",
    "              sku\n",
    "              title\n",
    "              price\n",
    "              compareAtPrice\n",
    "              image {\n",
    "                url\n",
    "              }\n",
    "              inventoryQuantity\n",
    "              inventoryItem {\n",
    "                id\n",
    "              }\n",
    "              metafields(first: 250) {\n",
    "                edges {\n",
    "                  node {\n",
    "                    id\n",
    "                    namespace\n",
    "                    key\n",
    "                    value\n",
    "                    ownerType\n",
    "                  }\n",
    "                }\n",
    "              }\n",
    "            }\n",
    "          }\n",
    "        }\n",
    "        metafields(first: 250) {\n",
    "          edges {\n",
    "            node {\n",
    "              id\n",
    "              namespace\n",
    "              key\n",
    "              value\n",
    "              ownerType\n",
    "            }\n",
    "          }\n",
    "        }\n",
    "        collections(first: 250) {\n",
    "          edges {\n",
    "            node {\n",
    "              id\n",
    "              handle\n",
    "              title\n",
    "              updatedAt\n",
    "            }\n",
    "          }\n",
    "        }\n",
    "      }\n",
    "    }\n",
    "    pageInfo {\n",
    "      hasNextPage\n",
    "      hasPreviousPage\n",
    "      startCursor\n",
    "      endCursor\n",
    "    }\n",
    "  }\n",
    "}\n",
    "\"\"\"\n",
    "\n",
    "inventoryItems_query = \"\"\"\n",
    "query inventoryItems($first: Int!, $after: String)\n",
    "{\n",
    "  inventoryItems(first: $first, after: $after) {\n",
    "    edges {\n",
    "      node {\n",
    "        id\n",
    "        sku\n",
    "        inventoryLevels(first: 250) {\n",
    "          edges {\n",
    "            node {\n",
    "              location {\n",
    "                id\n",
    "                name\n",
    "              }\n",
    "              quantities(names: \"available\") {\n",
    "                name\n",
    "                quantity\n",
    "              }\n",
    "            }\n",
    "          }\n",
    "        }\n",
    "      }\n",
    "    }\n",
    "    pageInfo {\n",
    "      hasNextPage\n",
    "      hasPreviousPage\n",
    "      startCursor\n",
    "      endCursor\n",
    "    }\n",
    "  }\n",
    "}\n",
    "\"\"\""
   ]
  },
  {
   "cell_type": "markdown",
   "metadata": {
    "application/vnd.databricks.v1+cell": {
     "cellMetadata": {
      "byteLimit": 2048000,
      "rowLimit": 10000
     },
     "inputWidgets": {},
     "nuid": "170b298f-d4b3-4b2c-94d4-2eba700142f0",
     "showTitle": false,
     "tableResultSettingsMap": {},
     "title": ""
    }
   },
   "source": [
    "# 1. Fetch entities from Shopify by GraphQL\n",
    "# 2. Write the output to Lakehouse\n",
    "# 3. Log progress"
   ]
  },
  {
   "cell_type": "code",
   "execution_count": 0,
   "metadata": {
    "application/vnd.databricks.v1+cell": {
     "cellMetadata": {
      "byteLimit": 2048000,
      "rowLimit": 10000
     },
     "inputWidgets": {},
     "nuid": "3fc8af4e-9ca8-4fc3-91b4-a8d775560a58",
     "showTitle": false,
     "tableResultSettingsMap": {},
     "title": ""
    }
   },
   "outputs": [
    {
     "output_type": "stream",
     "name": "stderr",
     "output_type": "stream",
     "text": [
      "2025-07-03 18:40:11 INFO Received command c on object id p1\n2025-07-03 18:40:11 INFO Error while sending or receiving.\nTraceback (most recent call last):\n  File \"/databricks/spark/python/lib/py4j-0.10.9.7-src.zip/py4j/clientserver.py\", line 528, in send_command\n    self.socket.sendall(command.encode(\"utf-8\"))\nConnectionResetError: [Errno 104] Connection reset by peer\n2025-07-03 18:40:11 INFO Closing down clientserver connection\n2025-07-03 18:40:11 INFO Exception while sending command.\nTraceback (most recent call last):\n  File \"/databricks/spark/python/lib/py4j-0.10.9.7-src.zip/py4j/clientserver.py\", line 528, in send_command\n    self.socket.sendall(command.encode(\"utf-8\"))\nConnectionResetError: [Errno 104] Connection reset by peer\n\nDuring handling of the above exception, another exception occurred:\n\nTraceback (most recent call last):\n  File \"/databricks/spark/python/lib/py4j-0.10.9.7-src.zip/py4j/java_gateway.py\", line 1038, in send_command\n    response = connection.send_command(command)\n               ^^^^^^^^^^^^^^^^^^^^^^^^^^^^^^^^\n  File \"/databricks/spark/python/lib/py4j-0.10.9.7-src.zip/py4j/clientserver.py\", line 531, in send_command\n    raise Py4JNetworkError(\npy4j.protocol.Py4JNetworkError: Error while sending\n2025-07-03 18:40:11 INFO Closing down clientserver connection\n2025-07-03 18:40:11 INFO Received command c on object id p0\n2025-07-03 18:40:12 INFO Closing down clientserver connection\n2025-07-03 18:40:12 INFO Closing down clientserver connection\n2025-07-03 18:40:12 INFO Starting Shopify Session for 'products'\n2025-07-03 18:40:12 INFO Starting Shopify Session for 'inventoryItems'\n2025-07-03 18:40:12 INFO Closing down clientserver connection\n2025-07-03 18:40:12 INFO Closing down clientserver connection\n2025-07-03 18:40:12 INFO Starting Shopify Session for 'products'\n2025-07-03 18:40:12 INFO Starting Shopify Session for 'inventoryItems'\n2025-07-03 18:40:12 INFO Received command c on object id p0\n2025-07-03 18:40:12 INFO Received 10 records for inventoryItems\n2025-07-03 18:40:12 INFO Received 10 records for inventoryItems\n2025-07-03 18:40:13 INFO Received 10 records for products\n2025-07-03 18:40:13 INFO Received 10 records for inventoryItems\n2025-07-03 18:40:13 INFO Received 10 records for inventoryItems\n2025-07-03 18:40:13 INFO Received 10 records for inventoryItems\n2025-07-03 18:40:13 INFO Received 10 records for products\n2025-07-03 18:40:13 INFO Received command c on object id p0\n2025-07-03 18:40:13 INFO Received 10 records for inventoryItems\n2025-07-03 18:40:13 INFO Received 10 records for products\n2025-07-03 18:40:14 INFO Received 10 records for inventoryItems\n2025-07-03 18:40:14 INFO Received 10 records for inventoryItems\n2025-07-03 18:40:14 INFO Received 10 records for products\n2025-07-03 18:40:14 INFO Received 10 records for inventoryItems\n2025-07-03 18:40:14 INFO Received 10 records for inventoryItems\n2025-07-03 18:40:14 INFO Received 10 records for inventoryItems\n2025-07-03 18:40:14 INFO Received command c on object id p0\n2025-07-03 18:40:14 INFO Received 10 records for products\n2025-07-03 18:40:14 INFO Received 10 records for inventoryItems\n2025-07-03 18:40:14 INFO Received 10 records for inventoryItems\n2025-07-03 18:40:14 INFO Received 10 records for products\n2025-07-03 18:40:15 INFO Received 10 records for inventoryItems\n2025-07-03 18:40:15 INFO Received 10 records for inventoryItems\n2025-07-03 18:40:15 INFO Received 10 records for inventoryItems\n2025-07-03 18:40:15 INFO Received 10 records for products\n2025-07-03 18:40:15 INFO Received 10 records for products\n2025-07-03 18:40:15 INFO Received 10 records for inventoryItems\n2025-07-03 18:40:15 INFO Received 10 records for inventoryItems\n2025-07-03 18:40:15 INFO Received command c on object id p0\n2025-07-03 18:40:15 INFO Received 10 records for inventoryItems\n2025-07-03 18:40:16 INFO Received 10 records for inventoryItems\n2025-07-03 18:40:16 INFO Received 10 records for inventoryItems\n2025-07-03 18:40:16 INFO Received 10 records for products\n2025-07-03 18:40:16 INFO Received 10 records for products\n2025-07-03 18:40:16 INFO Received 10 records for inventoryItems\n2025-07-03 18:40:16 INFO Received 10 records for inventoryItems\n2025-07-03 18:40:16 INFO Received 10 records for inventoryItems\n2025-07-03 18:40:16 INFO Received command c on object id p0\n2025-07-03 18:40:16 INFO Received 10 records for products\n2025-07-03 18:40:16 INFO Received 10 records for inventoryItems\n2025-07-03 18:40:16 INFO Received 10 records for inventoryItems\n2025-07-03 18:40:17 INFO Received 10 records for products\n2025-07-03 18:40:17 INFO Received 10 records for inventoryItems\n2025-07-03 18:40:17 INFO Received 10 records for products\n2025-07-03 18:40:17 INFO Received 10 records for inventoryItems\n2025-07-03 18:40:17 INFO Received 10 records for inventoryItems\n2025-07-03 18:40:17 INFO Received 10 records for products\n2025-07-03 18:40:17 INFO Received 10 records for inventoryItems\n2025-07-03 18:40:17 INFO Received command c on object id p0\n2025-07-03 18:40:17 INFO Received 10 records for inventoryItems\n2025-07-03 18:40:17 INFO Received 10 records for products\n2025-07-03 18:40:17 INFO Received 10 records for inventoryItems\n2025-07-03 18:40:18 INFO Received 10 records for products\n2025-07-03 18:40:18 INFO Received 10 records for inventoryItems\n2025-07-03 18:40:18 INFO Received 10 records for inventoryItems\n2025-07-03 18:40:18 INFO Received 10 records for products\n2025-07-03 18:40:18 INFO Received 10 records for products\n2025-07-03 18:40:18 INFO Received 10 records for inventoryItems\n2025-07-03 18:40:18 INFO Received 10 records for inventoryItems\n2025-07-03 18:40:18 INFO Received 10 records for inventoryItems\n2025-07-03 18:40:18 INFO Received command c on object id p0\n2025-07-03 18:40:18 INFO Received 10 records for products\n2025-07-03 18:40:18 INFO Received 10 records for products\n2025-07-03 18:40:18 INFO Received 10 records for inventoryItems\n2025-07-03 18:40:19 INFO Received 10 records for inventoryItems\n2025-07-03 18:40:19 INFO Received 10 records for products\n2025-07-03 18:40:19 INFO Received 10 records for inventoryItems\n2025-07-03 18:40:19 INFO Received 10 records for inventoryItems\n2025-07-03 18:40:19 INFO Received 10 records for products\n2025-07-03 18:40:19 INFO Received 10 records for inventoryItems\n2025-07-03 18:40:19 INFO Received 10 records for products\n2025-07-03 18:40:19 INFO Received 10 records for inventoryItems\n2025-07-03 18:40:19 INFO Received 10 records for products\n2025-07-03 18:40:19 INFO Received command c on object id p0\n2025-07-03 18:40:19 INFO Received 10 records for inventoryItems\n2025-07-03 18:40:20 INFO Received 10 records for inventoryItems\n2025-07-03 18:40:20 INFO Received 10 records for inventoryItems\n2025-07-03 18:40:20 INFO Received 10 records for products\n2025-07-03 18:40:20 INFO Received 10 records for inventoryItems\n2025-07-03 18:40:20 INFO Received 10 records for products\n2025-07-03 18:40:20 INFO Received 10 records for inventoryItems\n2025-07-03 18:40:20 INFO Received 10 records for inventoryItems\n2025-07-03 18:40:20 INFO Received 10 records for inventoryItems\n2025-07-03 18:40:20 INFO Received command c on object id p0\n2025-07-03 18:40:20 INFO Received 10 records for inventoryItems\n2025-07-03 18:40:20 INFO Received 10 records for products\n2025-07-03 18:40:20 INFO Received 10 records for products\n2025-07-03 18:40:20 INFO Received 10 records for inventoryItems\n2025-07-03 18:40:21 INFO Received 10 records for inventoryItems\n2025-07-03 18:40:21 INFO Received 10 records for inventoryItems\n2025-07-03 18:40:21 INFO Received 10 records for products\n2025-07-03 18:40:21 INFO Received 10 records for products\n2025-07-03 18:40:21 INFO Received 10 records for inventoryItems\n2025-07-03 18:40:21 INFO Received 10 records for inventoryItems\n2025-07-03 18:40:21 INFO Received 10 records for inventoryItems\n2025-07-03 18:40:21 INFO Received command c on object id p0\n2025-07-03 18:40:21 INFO Received 10 records for products\n2025-07-03 18:40:21 INFO Received 10 records for products\n2025-07-03 18:40:21 INFO Received 10 records for inventoryItems\n2025-07-03 18:40:22 INFO Received 10 records for inventoryItems\n2025-07-03 18:40:22 INFO Received 10 records for inventoryItems\n2025-07-03 18:40:22 INFO Received 10 records for products\n2025-07-03 18:40:22 INFO Received 10 records for inventoryItems\n2025-07-03 18:40:22 INFO Received 10 records for inventoryItems\n2025-07-03 18:40:22 INFO Received 10 records for products\n2025-07-03 18:40:22 INFO Received 10 records for inventoryItems\n2025-07-03 18:40:22 INFO Received command c on object id p0\n2025-07-03 18:40:22 INFO Received 10 records for inventoryItems\n2025-07-03 18:40:22 INFO Received 10 records for inventoryItems\n2025-07-03 18:40:23 INFO Received 10 records for products\n2025-07-03 18:40:23 INFO Received 10 records for inventoryItems\n2025-07-03 18:40:23 INFO Received 10 records for products\n2025-07-03 18:40:23 INFO Received 10 records for inventoryItems\n2025-07-03 18:40:23 INFO Received 10 records for inventoryItems\n2025-07-03 18:40:23 INFO Received 10 records for inventoryItems\n2025-07-03 18:40:23 INFO Received 10 records for inventoryItems\n2025-07-03 18:40:23 INFO Received 10 records for products\n2025-07-03 18:40:23 INFO Received command c on object id p0\n2025-07-03 18:40:23 INFO Received 10 records for inventoryItems\n2025-07-03 18:40:23 INFO Received 10 records for products\n2025-07-03 18:40:24 INFO Received 10 records for inventoryItems\n2025-07-03 18:40:24 INFO Received 10 records for inventoryItems\n2025-07-03 18:40:24 INFO Received 10 records for products\n2025-07-03 18:40:24 INFO Received 10 records for inventoryItems\n2025-07-03 18:40:24 INFO Received 10 records for inventoryItems\n2025-07-03 18:40:24 INFO Received 10 records for products\n2025-07-03 18:40:24 INFO Received 10 records for inventoryItems\n2025-07-03 18:40:24 INFO Received 10 records for products\n2025-07-03 18:40:24 INFO Received command c on object id p0\n2025-07-03 18:40:24 INFO Received 10 records for inventoryItems\n2025-07-03 18:40:24 INFO Received 10 records for inventoryItems\n2025-07-03 18:40:25 INFO Received 10 records for products\n2025-07-03 18:40:25 INFO Received 10 records for inventoryItems\n2025-07-03 18:40:25 INFO Received 10 records for products\n2025-07-03 18:40:25 INFO Received 10 records for inventoryItems\n2025-07-03 18:40:25 INFO Received 10 records for inventoryItems\n2025-07-03 18:40:25 INFO Received 10 records for products\n2025-07-03 18:40:25 INFO Received 10 records for inventoryItems\n2025-07-03 18:40:25 INFO Received 10 records for inventoryItems\n2025-07-03 18:40:25 INFO Received command c on object id p0\n2025-07-03 18:40:25 INFO Received 10 records for inventoryItems\n2025-07-03 18:40:26 INFO Received 10 records for products\n2025-07-03 18:40:26 INFO Received 10 records for inventoryItems\n2025-07-03 18:40:26 INFO Received 10 records for inventoryItems\n2025-07-03 18:40:26 INFO Received 10 records for products\n2025-07-03 18:40:26 INFO Received 10 records for inventoryItems\n2025-07-03 18:40:26 INFO Received 10 records for inventoryItems\n2025-07-03 18:40:26 INFO Received 10 records for products\n2025-07-03 18:40:26 INFO Received 10 records for inventoryItems\n2025-07-03 18:40:26 INFO Received command c on object id p0\n2025-07-03 18:40:26 INFO Received 10 records for products\n2025-07-03 18:40:26 INFO Received 10 records for inventoryItems\n2025-07-03 18:40:27 INFO Received 10 records for inventoryItems\n2025-07-03 18:40:27 INFO Received 10 records for products\n2025-07-03 18:40:27 INFO Received 10 records for inventoryItems\n2025-07-03 18:40:27 INFO Received 10 records for inventoryItems\n2025-07-03 18:40:27 INFO Received 10 records for products\n2025-07-03 18:40:27 INFO Received 10 records for inventoryItems\n2025-07-03 18:40:27 INFO Received 10 records for products\n2025-07-03 18:40:27 INFO Received 10 records for inventoryItems\n2025-07-03 18:40:27 INFO Received 10 records for inventoryItems\n2025-07-03 18:40:27 INFO Received command c on object id p0\n2025-07-03 18:40:27 INFO Received 10 records for inventoryItems\n2025-07-03 18:40:27 INFO Received 10 records for products\n2025-07-03 18:40:28 INFO Received 10 records for inventoryItems\n2025-07-03 18:40:28 INFO Received 10 records for inventoryItems\n2025-07-03 18:40:28 INFO Received 10 records for inventoryItems\n2025-07-03 18:40:28 INFO Received 10 records for products\n2025-07-03 18:40:28 INFO Received 10 records for inventoryItems\n2025-07-03 18:40:28 INFO Received 10 records for products\n2025-07-03 18:40:28 INFO Received 10 records for inventoryItems\n2025-07-03 18:40:28 INFO Received command c on object id p0\n2025-07-03 18:40:28 INFO Received 10 records for inventoryItems\n2025-07-03 18:40:28 INFO Received 10 records for inventoryItems\n2025-07-03 18:40:28 INFO Received 10 records for products\n2025-07-03 18:40:29 INFO Received 10 records for inventoryItems\n2025-07-03 18:40:29 INFO Received 10 records for inventoryItems\n2025-07-03 18:40:29 INFO Received 10 records for inventoryItems\n2025-07-03 18:40:29 INFO Received 10 records for products\n2025-07-03 18:40:29 INFO Received 10 records for products\n2025-07-03 18:40:29 INFO Received 10 records for inventoryItems\n2025-07-03 18:40:29 INFO Received command c on object id p0\n2025-07-03 18:40:29 INFO Received 10 records for inventoryItems\n2025-07-03 18:40:29 INFO Received 10 records for inventoryItems\n2025-07-03 18:40:29 INFO Received 10 records for products\n2025-07-03 18:40:30 INFO Received 10 records for inventoryItems\n2025-07-03 18:40:30 INFO Received 10 records for products\n2025-07-03 18:40:30 INFO Received 10 records for inventoryItems\n2025-07-03 18:40:30 INFO Received 10 records for products\n2025-07-03 18:40:30 INFO Received 10 records for inventoryItems\n2025-07-03 18:40:30 INFO Received 10 records for inventoryItems\n2025-07-03 18:40:30 INFO Received 10 records for inventoryItems\n2025-07-03 18:40:30 INFO Received 10 records for products\n2025-07-03 18:40:30 INFO Received 10 records for inventoryItems\n2025-07-03 18:40:30 INFO Received command c on object id p0\n2025-07-03 18:40:30 INFO Received 10 records for products\n2025-07-03 18:40:31 INFO Received 10 records for inventoryItems\n2025-07-03 18:40:31 INFO Received 10 records for inventoryItems\n2025-07-03 18:40:31 INFO Received 10 records for products\n2025-07-03 18:40:31 INFO Received 10 records for inventoryItems\n2025-07-03 18:40:31 INFO Received 10 records for inventoryItems\n2025-07-03 18:40:31 INFO Received 10 records for products\n2025-07-03 18:40:31 INFO Received 10 records for products\n2025-07-03 18:40:31 INFO Received 10 records for inventoryItems\n2025-07-03 18:40:31 INFO Received 10 records for inventoryItems\n2025-07-03 18:40:31 INFO Received command c on object id p0\n2025-07-03 18:40:31 INFO Received 10 records for inventoryItems\n2025-07-03 18:40:32 INFO Received 10 records for inventoryItems\n2025-07-03 18:40:32 INFO Received 10 records for products\n2025-07-03 18:40:32 INFO Received 10 records for products\n2025-07-03 18:40:32 INFO Received 10 records for inventoryItems\n2025-07-03 18:40:32 INFO Received 10 records for inventoryItems\n2025-07-03 18:40:32 INFO Received 10 records for inventoryItems\n2025-07-03 18:40:32 INFO Received 10 records for products\n2025-07-03 18:40:32 INFO Received 10 records for inventoryItems\n2025-07-03 18:40:32 INFO Received 10 records for products\n2025-07-03 18:40:32 INFO Received command c on object id p0\n2025-07-03 18:40:32 INFO Received 10 records for inventoryItems\n2025-07-03 18:40:32 INFO Received 10 records for inventoryItems\n2025-07-03 18:40:33 INFO Received 10 records for products\n2025-07-03 18:40:33 INFO Received 10 records for inventoryItems\n2025-07-03 18:40:33 INFO Received 10 records for inventoryItems\n2025-07-03 18:40:33 INFO Received 10 records for products\n2025-07-03 18:40:33 INFO Received 10 records for inventoryItems\n2025-07-03 18:40:33 INFO Received 10 records for inventoryItems\n2025-07-03 18:40:33 INFO Received 10 records for products\n2025-07-03 18:40:33 INFO Received 10 records for inventoryItems\n2025-07-03 18:40:33 INFO Received command c on object id p0\n2025-07-03 18:40:33 INFO Received 10 records for inventoryItems\n2025-07-03 18:40:33 INFO Received 10 records for products\n2025-07-03 18:40:33 INFO Received 10 records for inventoryItems\n2025-07-03 18:40:34 INFO Received 10 records for inventoryItems\n2025-07-03 18:40:34 INFO Received 10 records for products\n2025-07-03 18:40:34 INFO Received 10 records for inventoryItems\n2025-07-03 18:40:34 INFO Received 10 records for products\n2025-07-03 18:40:34 INFO Received 10 records for inventoryItems\n2025-07-03 18:40:34 INFO Received 10 records for products\n2025-07-03 18:40:34 INFO Received command c on object id p0\n2025-07-03 18:40:34 INFO Received 10 records for inventoryItems\n2025-07-03 18:40:34 INFO Received 10 records for products\n2025-07-03 18:40:34 INFO Received 10 records for products\n2025-07-03 18:40:35 INFO Received 10 records for inventoryItems\n2025-07-03 18:40:35 INFO Received 10 records for inventoryItems\n2025-07-03 18:40:35 INFO Received 10 records for inventoryItems\n2025-07-03 18:40:35 INFO Received 10 records for products\n2025-07-03 18:40:35 INFO Received 10 records for products\n2025-07-03 18:40:35 INFO Received 10 records for inventoryItems\n2025-07-03 18:40:35 INFO Received 10 records for inventoryItems\n2025-07-03 18:40:35 INFO Received 10 records for inventoryItems\n2025-07-03 18:40:35 INFO Received command c on object id p0\n2025-07-03 18:40:35 INFO Received 10 records for products\n2025-07-03 18:40:36 INFO Received 10 records for products\n2025-07-03 18:40:36 INFO Received 10 records for inventoryItems\n2025-07-03 18:40:36 INFO Received 10 records for inventoryItems\n2025-07-03 18:40:36 INFO Received 10 records for inventoryItems\n2025-07-03 18:40:36 INFO Received 10 records for inventoryItems\n2025-07-03 18:40:36 INFO Received 10 records for products\n2025-07-03 18:40:36 INFO Received 10 records for products\n2025-07-03 18:40:36 INFO Received 10 records for inventoryItems\n2025-07-03 18:40:36 INFO Received 7 records for inventoryItems\n2025-07-03 18:40:36 INFO Received all the pages for inventoryItems\n2025-07-03 18:40:36 INFO Cleared Shopify Session for inventoryItems\n2025-07-03 18:40:36 INFO Received command c on object id p0\n2025-07-03 18:40:36 INFO Received 10 records for inventoryItems\n2025-07-03 18:40:37 INFO Received 10 records for products\n2025-07-03 18:40:37 INFO Received 10 records for products\n2025-07-03 18:40:37 INFO Received 10 records for inventoryItems\n2025-07-03 18:40:37 INFO Received 10 records for products\n2025-07-03 18:40:37 INFO Received 9 records for products\n2025-07-03 18:40:37 INFO Received all the pages for products\n2025-07-03 18:40:37 INFO Cleared Shopify Session for products\n2025-07-03 18:40:37 INFO Error while sending or receiving.\nTraceback (most recent call last):\n  File \"/databricks/spark/python/lib/py4j-0.10.9.7-src.zip/py4j/clientserver.py\", line 528, in send_command\n    self.socket.sendall(command.encode(\"utf-8\"))\nConnectionResetError: [Errno 104] Connection reset by peer\n2025-07-03 18:40:37 INFO Closing down clientserver connection\n2025-07-03 18:40:37 INFO Exception while sending command.\nTraceback (most recent call last):\n  File \"/databricks/spark/python/lib/py4j-0.10.9.7-src.zip/py4j/clientserver.py\", line 528, in send_command\n    self.socket.sendall(command.encode(\"utf-8\"))\nConnectionResetError: [Errno 104] Connection reset by peer\n\nDuring handling of the above exception, another exception occurred:\n\nTraceback (most recent call last):\n  File \"/databricks/spark/python/lib/py4j-0.10.9.7-src.zip/py4j/java_gateway.py\", line 1038, in send_command\n    response = connection.send_command(command)\n               ^^^^^^^^^^^^^^^^^^^^^^^^^^^^^^^^\n  File \"/databricks/spark/python/lib/py4j-0.10.9.7-src.zip/py4j/clientserver.py\", line 531, in send_command\n    raise Py4JNetworkError(\npy4j.protocol.Py4JNetworkError: Error while sending\n2025-07-03 18:40:37 INFO Closing down clientserver connection\n2025-07-03 18:40:37 INFO Received command c on object id p0\n2025-07-03 18:40:37 INFO Received 10 records for inventoryItems\n2025-07-03 18:40:38 INFO Received 10 records for products\n2025-07-03 18:40:38 INFO Received 10 records for inventoryItems\n2025-07-03 18:40:38 INFO Received 10 records for products\n2025-07-03 18:40:38 INFO Received 10 records for inventoryItems\n2025-07-03 18:40:38 INFO Received command c on object id p0\n2025-07-03 18:40:39 INFO Received 10 records for inventoryItems\n2025-07-03 18:40:39 INFO Received 10 records for products\n2025-07-03 18:40:39 INFO Received 10 records for inventoryItems\n2025-07-03 18:40:39 INFO Received 10 records for products\n2025-07-03 18:40:39 INFO Received command c on object id p0\n2025-07-03 18:40:39 INFO Received 10 records for inventoryItems\n2025-07-03 18:40:40 INFO Received 10 records for products\n2025-07-03 18:40:40 INFO Received 10 records for inventoryItems\n2025-07-03 18:40:40 INFO Received command c on object id p0\n2025-07-03 18:40:40 INFO Received 10 records for inventoryItems\n2025-07-03 18:40:40 INFO Received 10 records for products\n2025-07-03 18:40:41 INFO Received 10 records for inventoryItems\n2025-07-03 18:40:41 INFO Received 10 records for products\n2025-07-03 18:40:41 INFO Received command c on object id p0\n2025-07-03 18:40:41 INFO Received 10 records for inventoryItems\n2025-07-03 18:40:42 INFO Received 10 records for inventoryItems\n2025-07-03 18:40:42 INFO Received 10 records for products\n2025-07-03 18:40:42 INFO Received 10 records for inventoryItems\n2025-07-03 18:40:42 INFO Received command c on object id p0\n2025-07-03 18:40:42 INFO Received 10 records for products\n2025-07-03 18:40:42 INFO Received 10 records for inventoryItems\n2025-07-03 18:40:43 INFO Received 10 records for inventoryItems\n2025-07-03 18:40:43 INFO Received 10 records for products\n2025-07-03 18:40:43 INFO Received 10 records for inventoryItems\n2025-07-03 18:40:43 INFO Received command c on object id p0\n2025-07-03 18:40:44 INFO Received 10 records for products\n2025-07-03 18:40:44 INFO Received 10 records for inventoryItems\n2025-07-03 18:40:44 INFO Received 10 records for inventoryItems\n2025-07-03 18:40:44 INFO Received 10 records for products\n2025-07-03 18:40:44 INFO Received command c on object id p0\n2025-07-03 18:40:44 INFO Received 10 records for inventoryItems\n2025-07-03 18:40:44 INFO Received 10 records for products\n2025-07-03 18:40:45 INFO Received 10 records for inventoryItems\n2025-07-03 18:40:45 INFO Received 10 records for products\n2025-07-03 18:40:45 INFO Received 10 records for inventoryItems\n2025-07-03 18:40:45 INFO Received command c on object id p0\n2025-07-03 18:40:46 INFO Received 10 records for products\n2025-07-03 18:40:46 INFO Received 10 records for inventoryItems\n2025-07-03 18:40:46 INFO Received 10 records for products\n2025-07-03 18:40:46 INFO Received 10 records for inventoryItems\n2025-07-03 18:40:46 INFO Received command c on object id p0\n2025-07-03 18:40:46 INFO Received 10 records for inventoryItems\n2025-07-03 18:40:46 INFO Received 10 records for products\n2025-07-03 18:40:47 INFO Received 10 records for inventoryItems\n2025-07-03 18:40:47 INFO Received 10 records for products\n2025-07-03 18:40:47 INFO Received 10 records for inventoryItems\n2025-07-03 18:40:47 INFO Received command c on object id p0\n2025-07-03 18:40:47 INFO Received 10 records for products\n2025-07-03 18:40:48 INFO Received 10 records for inventoryItems\n2025-07-03 18:40:48 INFO Received 10 records for inventoryItems\n2025-07-03 18:40:48 INFO Received 10 records for products\n2025-07-03 18:40:48 INFO Received 10 records for inventoryItems\n2025-07-03 18:40:48 INFO Received command c on object id p0\n2025-07-03 18:40:48 INFO Received 10 records for products\n2025-07-03 18:40:49 INFO Received 10 records for inventoryItems\n2025-07-03 18:40:49 INFO Received 10 records for products\n2025-07-03 18:40:49 INFO Received 10 records for inventoryItems\n2025-07-03 18:40:49 INFO Received command c on object id p0\n2025-07-03 18:40:49 INFO Received 10 records for products\n2025-07-03 18:40:50 INFO Received 10 records for inventoryItems\n2025-07-03 18:40:50 INFO Received 10 records for inventoryItems\n2025-07-03 18:40:50 INFO Received command c on object id p0\n2025-07-03 18:40:51 INFO Received 10 records for inventoryItems\n2025-07-03 18:40:51 INFO Received 10 records for products\n2025-07-03 18:40:51 INFO Received command c on object id p0\n2025-07-03 18:40:52 INFO Received 10 records for inventoryItems\n2025-07-03 18:40:52 INFO Received 10 records for products\n2025-07-03 18:40:52 INFO Received all the pages for products\n2025-07-03 18:40:52 INFO Cleared Shopify Session for products\n2025-07-03 18:40:52 INFO Received 10 records for inventoryItems\n2025-07-03 18:40:53 INFO Received command c on object id p0\n2025-07-03 18:40:53 INFO Received 10 records for inventoryItems\n2025-07-03 18:40:53 INFO Received 10 records for inventoryItems\n2025-07-03 18:40:53 INFO Received command c on object id p0\n2025-07-03 18:40:54 INFO Received 10 records for inventoryItems\n2025-07-03 18:40:54 INFO Received 10 records for inventoryItems\n2025-07-03 18:40:54 INFO Received command c on object id p0\n2025-07-03 18:40:55 INFO Received 10 records for inventoryItems\n2025-07-03 18:40:55 INFO Received 10 records for inventoryItems\n2025-07-03 18:40:55 INFO Received command c on object id p0\n2025-07-03 18:40:55 INFO Received 10 records for inventoryItems\n2025-07-03 18:40:56 INFO Received 10 records for inventoryItems\n2025-07-03 18:40:56 INFO Received 10 records for inventoryItems\n2025-07-03 18:40:56 INFO Received command c on object id p0\n2025-07-03 18:40:56 INFO Received 10 records for inventoryItems\n2025-07-03 18:40:57 INFO Received 10 records for inventoryItems\n2025-07-03 18:40:57 INFO Received command c on object id p0\n2025-07-03 18:40:57 INFO Received 10 records for inventoryItems\n2025-07-03 18:40:58 INFO Received 10 records for inventoryItems\n2025-07-03 18:40:58 INFO Received 10 records for inventoryItems\n2025-07-03 18:40:58 INFO Received command c on object id p0\n2025-07-03 18:40:58 INFO Received 10 records for inventoryItems\n2025-07-03 18:40:59 INFO Received 10 records for inventoryItems\n2025-07-03 18:40:59 INFO Received 10 records for inventoryItems\n2025-07-03 18:40:59 INFO Received command c on object id p0\n2025-07-03 18:41:00 INFO Received 10 records for inventoryItems\n2025-07-03 18:41:00 INFO Received 10 records for inventoryItems\n2025-07-03 18:41:00 INFO Received command c on object id p0\n2025-07-03 18:41:01 INFO Received 10 records for inventoryItems\n2025-07-03 18:41:01 INFO Received 10 records for inventoryItems\n2025-07-03 18:41:01 INFO Received command c on object id p0\n2025-07-03 18:41:01 INFO Received 10 records for inventoryItems\n2025-07-03 18:41:02 INFO Received 10 records for inventoryItems\n2025-07-03 18:41:02 INFO Received 10 records for inventoryItems\n2025-07-03 18:41:02 INFO Received command c on object id p0\n2025-07-03 18:41:03 INFO Received 10 records for inventoryItems\n2025-07-03 18:41:03 INFO Received 10 records for inventoryItems\n2025-07-03 18:41:03 INFO Received command c on object id p0\n2025-07-03 18:41:03 INFO Received 10 records for inventoryItems\n2025-07-03 18:41:04 INFO Received 10 records for inventoryItems\n2025-07-03 18:41:04 INFO Received 10 records for inventoryItems\n2025-07-03 18:41:04 INFO Received command c on object id p0\n2025-07-03 18:41:05 INFO Received 10 records for inventoryItems\n2025-07-03 18:41:05 INFO Received 10 records for inventoryItems\n2025-07-03 18:41:05 INFO Received command c on object id p0\n2025-07-03 18:41:06 INFO Received 10 records for inventoryItems\n2025-07-03 18:41:06 INFO Received 10 records for inventoryItems\n2025-07-03 18:41:06 INFO Received command c on object id p0\n2025-07-03 18:41:06 INFO Received 10 records for inventoryItems\n2025-07-03 18:41:07 INFO Received 10 records for inventoryItems\n2025-07-03 18:41:07 INFO Received 10 records for inventoryItems\n2025-07-03 18:41:07 INFO Received command c on object id p0\n2025-07-03 18:41:08 INFO Received 10 records for inventoryItems\n2025-07-03 18:41:08 INFO Received 10 records for inventoryItems\n2025-07-03 18:41:08 INFO Received command c on object id p0\n2025-07-03 18:41:08 INFO Received 10 records for inventoryItems\n2025-07-03 18:41:09 INFO Received 10 records for inventoryItems\n2025-07-03 18:41:09 INFO Received 10 records for inventoryItems\n2025-07-03 18:41:09 INFO Received command c on object id p0\n2025-07-03 18:41:10 INFO Received 10 records for inventoryItems\n2025-07-03 18:41:10 INFO Received 10 records for inventoryItems\n2025-07-03 18:41:10 INFO Received command c on object id p0\n2025-07-03 18:41:11 INFO Received 10 records for inventoryItems\n2025-07-03 18:41:11 INFO Received 10 records for inventoryItems\n2025-07-03 18:41:11 INFO Received command c on object id p0\n2025-07-03 18:41:12 INFO Received 10 records for inventoryItems\n2025-07-03 18:41:12 INFO Received 10 records for inventoryItems\n2025-07-03 18:41:12 INFO Received command c on object id p0\n2025-07-03 18:41:13 INFO Received 10 records for inventoryItems\n2025-07-03 18:41:13 INFO Received 10 records for inventoryItems\n2025-07-03 18:41:13 INFO Received command c on object id p0\n2025-07-03 18:41:13 INFO Received 10 records for inventoryItems\n2025-07-03 18:41:14 INFO Received 10 records for inventoryItems\n2025-07-03 18:41:14 INFO Received 10 records for inventoryItems\n2025-07-03 18:41:14 INFO Received command c on object id p0\n2025-07-03 18:41:14 INFO Received 10 records for inventoryItems\n2025-07-03 18:41:15 INFO Received 10 records for inventoryItems\n2025-07-03 18:41:15 INFO Received 10 records for inventoryItems\n2025-07-03 18:41:15 INFO Received command c on object id p0\n2025-07-03 18:41:16 INFO Received 10 records for inventoryItems\n2025-07-03 18:41:16 INFO Received 10 records for inventoryItems\n2025-07-03 18:41:16 INFO Received command c on object id p0\n2025-07-03 18:41:16 INFO Received 10 records for inventoryItems\n2025-07-03 18:41:17 INFO Received 10 records for inventoryItems\n2025-07-03 18:41:17 INFO Received command c on object id p0\n2025-07-03 18:41:17 INFO Received 10 records for inventoryItems\n2025-07-03 18:41:18 INFO Received 10 records for inventoryItems\n2025-07-03 18:41:18 INFO Received 10 records for inventoryItems\n2025-07-03 18:41:18 INFO Received command c on object id p0\n2025-07-03 18:41:19 INFO Received 10 records for inventoryItems\n2025-07-03 18:41:19 INFO Received 10 records for inventoryItems\n2025-07-03 18:41:19 INFO Received command c on object id p0\n2025-07-03 18:41:19 INFO Received 10 records for inventoryItems\n2025-07-03 18:41:20 INFO Received 10 records for inventoryItems\n2025-07-03 18:41:20 INFO Received 10 records for inventoryItems\n2025-07-03 18:41:20 INFO Received command c on object id p0\n2025-07-03 18:41:20 INFO Received 10 records for inventoryItems\n2025-07-03 18:41:21 INFO Received 10 records for inventoryItems\n2025-07-03 18:41:21 INFO Received 10 records for inventoryItems\n2025-07-03 18:41:21 INFO Received command c on object id p0\n2025-07-03 18:41:22 INFO Received 10 records for inventoryItems\n2025-07-03 18:41:22 INFO Received 10 records for inventoryItems\n2025-07-03 18:41:22 INFO Received command c on object id p0\n2025-07-03 18:41:22 INFO Received 10 records for inventoryItems\n2025-07-03 18:41:23 INFO Received 10 records for inventoryItems\n2025-07-03 18:41:23 INFO Received 4 records for inventoryItems\n2025-07-03 18:41:23 INFO Received all the pages for inventoryItems\n2025-07-03 18:41:23 INFO Cleared Shopify Session for inventoryItems\n2025-07-03 18:41:23 INFO Received command c on object id p0\n2025-07-03 18:41:24 INFO Received command c on object id p0\n2025-07-03 18:41:25 INFO Received command c on object id p0\n2025-07-03 18:41:26 INFO Received command c on object id p0\n2025-07-03 18:41:27 INFO Received command c on object id p0\n2025-07-03 18:41:28 INFO Received command c on object id p0\n2025-07-03 18:41:29 INFO Received command c on object id p0\n2025-07-03 18:41:30 INFO Received command c on object id p0\n2025-07-03 18:41:31 INFO Received command c on object id p0\n2025-07-03 18:41:32 INFO Received command c on object id p0\n2025-07-03 18:41:33 INFO Received command c on object id p0\n2025-07-03 18:41:34 INFO Received command c on object id p0\n2025-07-03 18:41:35 INFO Received command c on object id p0\n2025-07-03 18:41:36 INFO Received command c on object id p0\n2025-07-03 18:41:39 INFO Received command c on object id p0\n2025-07-03 18:41:39 INFO Received command c on object id p0\n2025-07-03 18:41:39 INFO Received command c on object id p0\n2025-07-03 18:41:40 INFO Received command c on object id p0\n2025-07-03 18:41:41 INFO Received command c on object id p0\n2025-07-03 18:41:42 INFO Received command c on object id p0\n2025-07-03 18:41:43 INFO Received command c on object id p0\n2025-07-03 18:41:44 INFO Received command c on object id p0\n2025-07-03 18:41:45 INFO Received command c on object id p0\n2025-07-03 18:41:46 INFO Received command c on object id p0\n2025-07-03 18:41:47 INFO Received command c on object id p0\n2025-07-03 18:41:48 INFO Received command c on object id p0\n2025-07-03 18:41:49 INFO Received command c on object id p0\n2025-07-03 18:41:50 INFO Wrote 967 records of inventoryItems to abfss://bronze@qydatalake.dfs.core.windows.net/shopify/quayaustralia/inventoryItems/\n2025-07-03 18:41:50 INFO Received command c on object id p0\n2025-07-03 18:41:51 INFO Received command c on object id p0\n2025-07-03 18:41:52 INFO Received command c on object id p0\n2025-07-03 18:41:53 INFO Received command c on object id p0\n2025-07-03 18:41:54 INFO Received command c on object id p0\n2025-07-03 18:41:55 INFO Received command c on object id p0\n2025-07-03 18:41:56 INFO Received command c on object id p0\n2025-07-03 18:41:57 INFO Received command c on object id p0\n2025-07-03 18:41:58 INFO Logged 100 entries for inventoryItems\n2025-07-03 18:41:58 INFO Received command c on object id p0\n2025-07-03 18:41:59 INFO Received command c on object id p0\n2025-07-03 18:42:00 INFO Received command c on object id p0\n2025-07-03 18:42:01 INFO Received command c on object id p0\n2025-07-03 18:42:02 INFO Received command c on object id p0\n2025-07-03 18:42:03 INFO Received command c on object id p0\n2025-07-03 18:42:04 INFO Received command c on object id p0\n2025-07-03 18:42:05 INFO Received command c on object id p0\n2025-07-03 18:42:06 INFO Received command c on object id p0\n2025-07-03 18:42:07 INFO Wrote 449 records of products to abfss://bronze@qydatalake.dfs.core.windows.net/shopify/quayaustralia/products/\n2025-07-03 18:42:07 INFO Received command c on object id p0\n2025-07-03 18:42:08 INFO Received command c on object id p0\n2025-07-03 18:42:09 INFO Received command c on object id p0\n2025-07-03 18:42:10 INFO Received command c on object id p0\n2025-07-03 18:42:11 INFO Received command c on object id p0\n2025-07-03 18:42:12 INFO Logged 48 entries for products\n2025-07-03 18:42:12 INFO Received command c on object id p0\n2025-07-03 18:42:13 INFO Received command c on object id p0\n2025-07-03 18:42:14 INFO Received command c on object id p0\n2025-07-03 18:42:15 INFO Received command c on object id p0\n2025-07-03 18:42:16 INFO Received command c on object id p0\n2025-07-03 18:42:17 INFO Received command c on object id p0\n2025-07-03 18:42:18 INFO Received command c on object id p0\n2025-07-03 18:42:19 INFO Received command c on object id p0\n2025-07-03 18:42:20 INFO Wrote 680 records of products to abfss://bronze@qydatalake.dfs.core.windows.net/shopify/quayusa/products/\n2025-07-03 18:42:20 INFO Received command c on object id p0\n2025-07-03 18:42:21 INFO Received command c on object id p0\n2025-07-03 18:42:22 INFO Received command c on object id p0\n2025-07-03 18:42:23 INFO Received command c on object id p0\n2025-07-03 18:42:24 INFO Received command c on object id p0\n2025-07-03 18:42:24 INFO Logged 71 entries for products\n2025-07-03 18:42:25 INFO Received command c on object id p0\n2025-07-03 18:42:26 INFO Received command c on object id p0\n2025-07-03 18:42:27 INFO Received command c on object id p0\n2025-07-03 18:42:28 INFO Received command c on object id p0\n2025-07-03 18:42:29 INFO Received command c on object id p0\n2025-07-03 18:42:30 INFO Received command c on object id p0\n2025-07-03 18:42:31 INFO Wrote 1674 records of inventoryItems to abfss://bronze@qydatalake.dfs.core.windows.net/shopify/quayusa/inventoryItems/\n2025-07-03 18:42:31 INFO Received command c on object id p0\n2025-07-03 18:42:32 INFO Received command c on object id p0\n2025-07-03 18:42:33 INFO Received command c on object id p0\n2025-07-03 18:42:34 INFO Received command c on object id p0\n2025-07-03 18:42:35 INFO Received command c on object id p0\n2025-07-03 18:42:36 INFO Logged 171 entries for inventoryItems\n"
     ]
    }
   ],
   "source": [
    "from concurrent.futures import ProcessPoolExecutor, as_completed\n",
    "\n",
    "# === MAIN PIPELINE ===\n",
    "if __name__ == \"__main__\":\n",
    "    # Define the shops (US, AU, etc.) up front:\n",
    "    channels = [\"US\", \"AU\"]\n",
    "    shop_configs = []\n",
    "\n",
    "    for channel in channels: \n",
    "        # Prepare Shopify secret\n",
    "        shop, shop_url, api_version, private_app_password = get_shopify_secret(\n",
    "            shop=f\"SHOPIFY_{channel}\", \n",
    "            api_version=\"2023-04\", \n",
    "            scope= \"azure_key_vault\", \n",
    "            key=f\"SHOPIFY{channel}-PW\"\n",
    "        )\n",
    "\n",
    "        shop_configs.append(\n",
    "            {\n",
    "                \"name\": shop, \n",
    "                \"url\": shop_url, \n",
    "                \"version\": api_version, \n",
    "                \"password\": private_app_password\n",
    "            }\n",
    "        )\n",
    "\n",
    "    # Queries we want to load\n",
    "    entity_queries = {\n",
    "        \"products\": product_query, \n",
    "        \"inventoryItems\": inventoryItems_query\n",
    "    }\n",
    "\n",
    "    # Create a separate Shopify session for each entity. Each parallel job is isolated from the others.\n",
    "    jobs = [\n",
    "        (\n",
    "            entity, \n",
    "            query,\n",
    "            shop_config[\"name\"],\n",
    "            shop_config[\"url\"], \n",
    "            shop_config[\"version\"], \n",
    "            shop_config[\"password\"]\n",
    "        )\n",
    "        for shop_config in shop_configs\n",
    "        for entity, query in entity_queries.items()\n",
    "    ]\n",
    "\n",
    "    # Parallel GraphQL fetch (processes)\n",
    "    with ProcessPoolExecutor(max_workers=len(entity_queries)*len(shop_configs)) as pool:\n",
    "        futures = {\n",
    "            pool.submit(fetch_entity_data, entity, query, name, url, version, password): name\n",
    "            for entity, query, name, url, version, password in jobs \n",
    "        }\n",
    "        \n",
    "        for future in as_completed(futures): # futures is a Dict[Future, str]\n",
    "            # channel = futures[future]\n",
    "            channel, entity, data, logs = future.result()\n",
    "\n",
    "            # Write to Lakehouse\n",
    "            write_to_lakehouse(data=data, partition_number=1, medal=\"bronze\", subfolder_path=f\"shopify/{channel}\", entity=entity)\n",
    "\n",
    "            # Log progress\n",
    "            log_progress(log_records=logs, medal=\"bronze\", subfolder_path=f\"shopify/{channel}\", entity=entity)\n",
    "\n",
    "# --- End of shopify_loader.py ---"
   ]
  },
  {
   "cell_type": "code",
   "execution_count": 0,
   "metadata": {
    "application/vnd.databricks.v1+cell": {
     "cellMetadata": {
      "byteLimit": 2048000,
      "rowLimit": 10000
     },
     "inputWidgets": {},
     "nuid": "ced17074-c193-429e-a83c-5a384595689a",
     "showTitle": false,
     "tableResultSettingsMap": {},
     "title": ""
    }
   },
   "outputs": [],
   "source": []
  }
 ],
 "metadata": {
  "application/vnd.databricks.v1+notebook": {
   "computePreferences": null,
   "dashboards": [],
   "environmentMetadata": {
    "base_environment": "",
    "environment_version": "2"
   },
   "inputWidgetPreferences": null,
   "language": "python",
   "notebookMetadata": {
    "mostRecentlyExecutedCommandWithImplicitDF": {
     "commandId": 5131063115942568,
     "dataframes": [
      "_sqldf"
     ]
    },
    "pythonIndentUnit": 4
   },
   "notebookName": "load_shopify_all_channels_bronze",
   "widgets": {}
  },
  "language_info": {
   "name": "python"
  }
 },
 "nbformat": 4,
 "nbformat_minor": 0
}